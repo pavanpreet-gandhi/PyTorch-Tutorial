{
 "cells": [
  {
   "cell_type": "markdown",
   "id": "abb0a7db-2ed3-4e97-9420-507dda7cb0df",
   "metadata": {},
   "source": [
    "# Versions"
   ]
  },
  {
   "cell_type": "code",
   "execution_count": 1,
   "id": "75693f66-16d6-4636-91b5-6b6ea0e1e45d",
   "metadata": {},
   "outputs": [],
   "source": [
    "import torch\n",
    "import torchvision"
   ]
  },
  {
   "cell_type": "code",
   "execution_count": 2,
   "id": "1d26574d-1589-4b3a-956b-1599b49a7e07",
   "metadata": {},
   "outputs": [
    {
     "name": "stdout",
     "output_type": "stream",
     "text": [
      "PyTorch Version: 1.11.0\n",
      "Torchvision Version: 0.12.0\n",
      "CUDA Version: 11.3\n"
     ]
    }
   ],
   "source": [
    "print('PyTorch Version:', torch.__version__)\n",
    "print('Torchvision Version:', torchvision.__version__)\n",
    "print('CUDA Version:', torch.version.cuda)"
   ]
  }
 ],
 "metadata": {
  "kernelspec": {
   "display_name": "Python 3 (ipykernel)",
   "language": "python",
   "name": "python3"
  },
  "language_info": {
   "codemirror_mode": {
    "name": "ipython",
    "version": 3
   },
   "file_extension": ".py",
   "mimetype": "text/x-python",
   "name": "python",
   "nbconvert_exporter": "python",
   "pygments_lexer": "ipython3",
   "version": "3.9.12"
  }
 },
 "nbformat": 4,
 "nbformat_minor": 5
}
